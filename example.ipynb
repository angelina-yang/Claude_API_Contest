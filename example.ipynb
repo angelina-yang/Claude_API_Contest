{
 "cells": [
  {
   "cell_type": "markdown",
   "id": "c025235b",
   "metadata": {},
   "source": [
    "aa\n"
   ]
  },
  {
   "cell_type": "code",
   "execution_count": null,
   "id": "a06cc9a0",
   "metadata": {},
   "outputs": [],
   "source": []
  },
  {
   "cell_type": "markdown",
   "id": "5a49d844",
   "metadata": {},
   "source": [
    "do `abc`"
   ]
  },
  {
   "cell_type": "code",
   "execution_count": 1,
   "id": "c7780584",
   "metadata": {},
   "outputs": [],
   "source": [
    "from numpy import *\n"
   ]
  },
  {
   "cell_type": "code",
   "execution_count": null,
   "id": "f2941021",
   "metadata": {},
   "outputs": [],
   "source": [
    "sin"
   ]
  }
 ],
 "metadata": {
  "kernelspec": {
   "display_name": "Python 3 (ipykernel)",
   "language": "python",
   "name": "python3"
  },
  "language_info": {
   "codemirror_mode": {
    "name": "ipython",
    "version": 3
   },
   "file_extension": ".py",
   "mimetype": "text/x-python",
   "name": "python",
   "nbconvert_exporter": "python",
   "pygments_lexer": "ipython3",
   "version": "3.9.13"
  }
 },
 "nbformat": 4,
 "nbformat_minor": 5
}
